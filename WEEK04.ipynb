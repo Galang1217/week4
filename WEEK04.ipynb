{
  "cells": [
    {
      "cell_type": "markdown",
      "metadata": {
        "id": "e0u2LdGW9TTy"
      },
      "source": [
        "**WEEKLY EXERCISE 1**"
      ]
    },
    {
      "cell_type": "code",
      "execution_count": null,
      "metadata": {
        "colab": {
          "base_uri": "https://localhost:8080/"
        },
        "id": "Zr7L8Thu9QY8",
        "outputId": "0d89f0f0-d240-4a97-ba8f-40aa03f3508f"
      },
      "outputs": [
        {
          "name": "stdout",
          "output_type": "stream",
          "text": [
            "Masukan Umur = 16\n",
            "Tidak Boleh Membuat Sim\n"
          ]
        }
      ],
      "source": [
        "\n",
        "umur = int(input(\"Masukan Umur = \"))\n",
        "if umur >= 17:\n",
        "   print(\"Boleh Membuat Sim\")\n",
        "else:\n",
        "   print(\"Tidak Boleh Membuat Sim\")"
      ]
    },
    {
      "cell_type": "markdown",
      "metadata": {
        "id": "xFlJEYQa9v-i"
      },
      "source": [
        "**WEEKLY EXERCISE 2**"
      ]
    },
    {
      "cell_type": "code",
      "execution_count": null,
      "metadata": {
        "colab": {
          "base_uri": "https://localhost:8080/"
        },
        "id": "sia-8V6S9vTX",
        "outputId": "8860bc76-5b83-4f86-d1a6-c6e3ef0024e1"
      },
      "outputs": [
        {
          "name": "stdout",
          "output_type": "stream",
          "text": [
            "Masukan Nilai = 87\n",
            "Anda Mendapatkan Grade B+\n"
          ]
        }
      ],
      "source": [
        "\n",
        "nilai = int(input(\"Masukan Nilai = \"))\n",
        "\n",
        "if nilai >= 90:\n",
        "  print(\"Anda Mendapatkan Grade A\")\n",
        "elif nilai >= 80:\n",
        "  print(\"Anda Mendapatkan Grade B+\")\n",
        "elif nilai >= 70:\n",
        "  print(\"Anda Mendapatkan Grade B\")\n",
        "elif nilai >= 60:\n",
        "  print(\"Anda Mendapatkan Grade C+\")\n",
        "elif nilai >= 50:\n",
        "  print(\"Anda Mendapatkan Grade C\")\n",
        "elif nilai >= 40:\n",
        "  print(\"Anda Mendapatkan Grade D\")\n",
        "else:\n",
        "  print(\"Anda Mendapatkan Grade E\")"
      ]
    },
    {
      "cell_type": "markdown",
      "metadata": {
        "id": "W_PhZVYF-ryE"
      },
      "source": [
        "**WEEKLY EXERCISE 3**"
      ]
    },
    {
      "cell_type": "code",
      "execution_count": null,
      "metadata": {
        "colab": {
          "background_save": true
        },
        "id": "3f-ZddVm-vkO",
        "outputId": "4d038105-4b03-40c7-afda-5dae4f87f624"
      },
      "outputs": [
        {
          "name": "stdout",
          "output_type": "stream",
          "text": [
            "Grade A-\n"
          ]
        }
      ],
      "source": [
        "\n",
        "nilai = float(input('masukan nilai = '))\n",
        "\n",
        "if nilai >= 80.00 and nilai <= 100:\n",
        "  print(\"Grade A\")\n",
        "elif nilai >= 77.50 and nilai <= 79.99:\n",
        "  print(\"Grade A-\")\n",
        "elif nilai >= 75.00 and nilai <= 77.49:\n",
        "  print(\"Grade A/B\")\n",
        "elif nilai >= 72.50 and nilai <= 74.99:\n",
        "  print(\"Grade B+\")\n",
        "elif nilai >= 70.00 and nilai <= 72.49:\n",
        "  print(\"Grade B\")\n",
        "elif nilai >= 67.50 and nilai <= 69.99:\n",
        "  print(\"Grade B-\")\n",
        "elif nilai >= 65.00 and nilai <= 67.49:\n",
        "  print(\"Grade B/C\")\n",
        "elif nilai >= 62.50 and nilai <= 64.99:\n",
        "  print(\"Grade C+\")\n",
        "elif nilai >= 60.00 and nilai <= 62.49:\n",
        "  print(\"Grade C\")\n",
        "elif nilai >= 55.00 and nilai <= 59.99:\n",
        "  print(\"Grade C-\")\n",
        "elif nilai >= 50.00 and nilai <= 54.99:\n",
        "  print(\"Grade C/D\")\n",
        "elif nilai >= 45.00 and nilai <= 49.99:\n",
        "  print(\"Grade D+\")\n",
        "elif nilai >= 40.00 and nilai <= 44.99:\n",
        "  print(\"Grade D\")\n",
        "else:\n",
        "  print(\"Grade E\")"
      ]
    }
  ],
  "metadata": {
    "colab": {
      "provenance": []
    },
    "kernelspec": {
      "display_name": "Python 3",
      "name": "python3"
    },
    "language_info": {
      "name": "python"
    }
  },
  "nbformat": 4,
  "nbformat_minor": 0
}