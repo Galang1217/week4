{
  "nbformat": 4,
  "nbformat_minor": 0,
  "metadata": {
    "colab": {
      "provenance": []
    },
    "kernelspec": {
      "name": "python3",
      "display_name": "Python 3"
    },
    "language_info": {
      "name": "python"
    }
  },
  "cells": [
    {
      "cell_type": "markdown",
      "source": [
        "\n",
        "**WEEK 01 & WEEK 02**\n",
        "\n",
        "**WEEK 01 :**\n",
        "\n",
        "**WEEKLY EXERCISE 1**"
      ],
      "metadata": {
        "id": "4N6IuRT1vQNe"
      }
    },
    {
      "cell_type": "code",
      "execution_count": null,
      "metadata": {
        "colab": {
          "base_uri": "https://localhost:8080/"
        },
        "id": "VO7nc8SyvNe6",
        "outputId": "45ec998a-a505-430b-b0a6-5255c342bd5a"
      },
      "outputs": [
        {
          "output_type": "stream",
          "name": "stdout",
          "text": [
            "Nama         : Galang Dwi Santoso\n",
            "\n",
            "NPM          : 2440506078\n",
            "\n",
            "Alamat       : Bandongan, Magelang, Jawa Tengah\n",
            "\n",
            "Tinggi Badan : 163 cm\n",
            "\n",
            "Berat Badan  : 70 kg\n",
            "\n"
          ]
        }
      ],
      "source": [
        "print('Nama         : Galang Dwi Santoso\\n')\n",
        "print('NPM          : 2440506078\\n')\n",
        "print('Alamat       : Bandongan, Magelang, Jawa Tengah\\n')\n",
        "print('Tinggi Badan : 163 cm\\n')\n",
        "print('Berat Badan  : 70 kg\\n')"
      ]
    },
    {
      "cell_type": "markdown",
      "source": [
        "**WEEKLY EXERCISE 2**"
      ],
      "metadata": {
        "id": "cc9L2nhPwKDb"
      }
    },
    {
      "cell_type": "code",
      "source": [
        "print('\\033[1mUNIVERSITAS TIDAR\\033[0m')\n",
        "print('Universitas Tidar merupakan Perguruan Tinggi Pemerintah atau Perguruan Tinggi Negeri yang telah ditetapkan berdasarkan Peraturan Presiden Republik Indonesia Nomor 23 Tahun 2014 pada tanggal 1 April 2014.\\n')\n",
        "print('\\033[1mJURUSAN TEKNIK ELEKTRO, MEKATRONIKA DAN INFORMASI\\033[0m')\n",
        "print('Jurusan Teknik Elektro terdiri atas tiga program studi, antara lain:')\n",
        "print('    1. S1 Teknik Elektro \\033[3m(Bachelor of Electrical)\\033[0m')\n",
        "print('    2. S1 Teknologi Informasi \\033[3m(Bachelor of Information Technology)\\033[0m')\n",
        "print('    3. S1 Teknik Mekatronika \\033[3m(Bachelor of Mechatronics Engineering)\\033[0m')"
      ],
      "metadata": {
        "colab": {
          "base_uri": "https://localhost:8080/"
        },
        "id": "BGmB9MdHwTAq",
        "outputId": "e0bd4182-6f10-4740-eca5-c29023d6e63b"
      },
      "execution_count": null,
      "outputs": [
        {
          "output_type": "stream",
          "name": "stdout",
          "text": [
            "\u001b[1mUNIVERSITAS TIDAR\u001b[0m\n",
            "Universitas Tidar merupakan Perguruan Tinggi Pemerintah atau Perguruan Tinggi Negeri yang telah ditetapkan berdasarkan Peraturan Presiden Republik Indonesia Nomor 23 Tahun 2014 pada tanggal 1 April 2014.\n",
            "\n",
            "\u001b[1mJURUSAN TEKNIK ELEKTRO, MEKATRONIKA DAN INFORMASI\u001b[0m\n",
            "Jurusan Teknik Elektro terdiri atas tiga program studi, antara lain:\n",
            "    1. S1 Teknik Elektro \u001b[3m(Bachelor of Electrical)\u001b[0m\n",
            "    2. S1 Teknologi Informasi \u001b[3m(Bachelor of Information Technology)\u001b[0m\n",
            "    3. S1 Teknik Mekatronika \u001b[3m(Bachelor of Mechatronics Engineering)\u001b[0m\n"
          ]
        }
      ]
    },
    {
      "cell_type": "markdown",
      "source": [
        "**WEEK 02 :**\n",
        "\n",
        "**Weekly Exercise 01**"
      ],
      "metadata": {
        "id": "APauOwwoDUb9"
      }
    },
    {
      "cell_type": "code",
      "source": [
        "Panjang = 20.5\n",
        "Lebar = 25\n",
        "Tinggi = 10\n",
        "\n",
        "Keliling = 2 * (Panjang + Lebar)\n",
        "Luas = Panjang * Lebar\n",
        "Volume = Panjang * Lebar * Tinggi\n",
        "\n",
        "print('Panjang   =',Panjang)\n",
        "print('Lebar     =',Lebar)\n",
        "print('Tinggi    =',Tinggi)\n",
        "print('Keliling  =',Keliling)\n",
        "print('Luas      =',Luas)\n",
        "print('Volume    =',Volume)"
      ],
      "metadata": {
        "colab": {
          "base_uri": "https://localhost:8080/"
        },
        "id": "SXpx1pHjhOdp",
        "outputId": "054bfdb4-c1fd-462d-e4f3-8c84b9b0951b"
      },
      "execution_count": null,
      "outputs": [
        {
          "output_type": "stream",
          "name": "stdout",
          "text": [
            "Panjang   = 20.5\n",
            "Lebar     = 25\n",
            "Tinggi    = 10\n",
            "Keliling  = 91.0\n",
            "Luas      = 512.5\n",
            "Volume    = 5125.0\n"
          ]
        }
      ]
    },
    {
      "cell_type": "markdown",
      "source": [
        "**Weekly Exercise 02**"
      ],
      "metadata": {
        "id": "B0u7TY9uhfoT"
      }
    },
    {
      "cell_type": "code",
      "source": [
        "# k singkatan dari Kalkulus\n",
        "\n",
        "shafira_k  = 85\n",
        "amanda_k   = 80\n",
        "aditya_k   = 75\n",
        "nedia_k    = 95\n",
        "widya_k    = 85\n",
        "hanif_k    = 75\n",
        "andi_k     = 70\n",
        "dhanar_k   = 85\n",
        "hikma_k    = 80\n",
        "\n",
        "# ms singkatan dari Matematika Statistika\n",
        "shafira_ms = 75\n",
        "amanda_ms  = 90\n",
        "aditya_ms  = 80\n",
        "nedia_ms   = 80\n",
        "widya_ms   = 85\n",
        "hanif_ms   = 95\n",
        "andi_ms    = 75\n",
        "dhanar_ms  = 85\n",
        "hikma_ms   = 75\n",
        "\n",
        "#rr singkatan dari rata-rata\n",
        "#n singkatan dari nilai\n",
        "\n",
        "# Rata Rata Nilai Shafira\n",
        "rr_n_shafira=(shafira_k+shafira_ms) /2\n",
        "# jumlah nilai hanif dan andi\n",
        "jmlh_n_hanif_dan_andi=hanif_k+hanif_ms+andi_k+andi_ms\n",
        "# rata rata nilai kalkulus widya dhanar hikma dan nedia\n",
        "rr_n_kalkulus_widya_dhanar_hikma_dan_nedia=(widya_k+dhanar_k+hikma_k+nedia_k) /4\n",
        "# rata rata  nilai metode statistika widya dhanar hikma dan nedia\n",
        "rr_n_statistika_widya_dhanar_hikma_dan_nedia=(widya_ms+dhanar_ms+hikma_ms+nedia_ms) /4\n",
        "# rata rata nilai mata kuliah kalkulus\n",
        "rr_n_mata_kuliah_kalkulus=(shafira_k+amanda_k+aditya_k+nedia_k+widya_k+hanif_k+andi_k+dhanar_k+hikma_k) /9\n",
        "# rata rata nilai mata kuliah metode Statistika\n",
        "rr_n_mata_kuliah_statistika=(shafira_ms+amanda_ms+aditya_ms+nedia_ms+widya_ms+hanif_ms+andi_ms+andi_ms+dhanar_ms+hikma_ms) /9\n",
        "\n",
        "print(\"Rata-Rata Nilai Shafira=\",rr_n_shafira)\n",
        "print(\"Jumlah Nilai Hanif dan Andi=\",jmlh_n_hanif_dan_andi)\n",
        "print(\"Rata-Rata Nilai Kalkulus Widya,Dhanar,Hikma, dan Nedia=\",rr_n_kalkulus_widya_dhanar_hikma_dan_nedia)\n",
        "print(\"Rata-Rata Nilai Matematika Statistika Widya,Dhanar,Hikma dan Nedia =\", rr_n_statistika_widya_dhanar_hikma_dan_nedia)\n",
        "print(\"Rata-Rata Nilai Mata Kuliah Kalkulus=\", rr_n_mata_kuliah_kalkulus)\n",
        "print(\"Rata-Rata Nilai Mata Kuliah Metode Statistika=\", rr_n_mata_kuliah_statistika)"
      ],
      "metadata": {
        "colab": {
          "base_uri": "https://localhost:8080/"
        },
        "id": "z_avOSUIDeLc",
        "outputId": "1c4c725c-45fe-4b92-98ab-930abbbbeabc"
      },
      "execution_count": null,
      "outputs": [
        {
          "output_type": "stream",
          "name": "stdout",
          "text": [
            "Rata-Rata Nilai Shafira= 80.0\n",
            "Jumlah Nilai Hanif dan Andi= 315\n",
            "Rata-Rata Nilai Kalkulus Widya,Dhanar,Hikma, dan Nedia= 86.25\n",
            "Rata-Rata Nilai Matematika Statistika Widya,Dhanar,Hikma dan Nedia = 81.25\n",
            "Rata-Rata Nilai Mata Kuliah Kalkulus= 81.11111111111111\n",
            "Rata-Rata Nilai Mata Kuliah Metode Statistika= 90.55555555555556\n"
          ]
        }
      ]
    },
    {
      "cell_type": "markdown",
      "source": [
        "**Weekly Exercise 03**"
      ],
      "metadata": {
        "id": "ds3oEE5ShnjF"
      }
    },
    {
      "cell_type": "markdown",
      "source": [
        "**SOAL NOMOR 1**"
      ],
      "metadata": {
        "id": "30CRI0vbkKpg"
      }
    },
    {
      "cell_type": "code",
      "source": [
        "# Soal Nomor 1\n",
        "\n",
        "agustus     = 31\n",
        "hari_masuk  = agustus - 3\n",
        "gaji_perjam = 30.000\n",
        "jam_kerja   = 8\n",
        "total_gaji  = (hari_masuk * jam_kerja) * gaji_perjam\n",
        "print('Gaji Dwi Pada Bulan Agustus adalah Rp.', total_gaji)"
      ],
      "metadata": {
        "colab": {
          "base_uri": "https://localhost:8080/"
        },
        "id": "XL6zsjaOjBZ4",
        "outputId": "2deb4e79-7d87-43c6-971e-5bfd1be24662"
      },
      "execution_count": null,
      "outputs": [
        {
          "output_type": "stream",
          "name": "stdout",
          "text": [
            "Gaji Dwi Pada Bulan Agustus adalah Rp. 6720.0\n"
          ]
        }
      ]
    },
    {
      "cell_type": "markdown",
      "source": [
        "**SOAL NOMOR 2**"
      ],
      "metadata": {
        "id": "9Y0I-TM2kU_Z"
      }
    },
    {
      "cell_type": "code",
      "source": [
        "# Soal Nomor 2\n",
        "\n",
        "persen          = 10/100\n",
        "besar_persen    = (agustus * gaji_perjam) *persen\n",
        "besar_tunjangan = total_gaji + besar_persen\n",
        "print('Gaji Akhir Dwi Setelah Dapet Tunjangan adalah Rp', besar_tunjangan)"
      ],
      "metadata": {
        "colab": {
          "base_uri": "https://localhost:8080/"
        },
        "id": "hmoIeBFxkT8e",
        "outputId": "a0c6bcdb-c532-4662-fdaa-04ce368f3cb3"
      },
      "execution_count": null,
      "outputs": [
        {
          "output_type": "stream",
          "name": "stdout",
          "text": [
            "Gaji Akhir Dwi Setelah Dapet Tunjangan adalah Rp 6813.0\n"
          ]
        }
      ]
    },
    {
      "cell_type": "markdown",
      "source": [
        "**SOAL NOMOR 3**"
      ],
      "metadata": {
        "id": "5xRVhRCpkdHk"
      }
    },
    {
      "cell_type": "code",
      "source": [
        "# Soal Nomor 3\n",
        "\n",
        "lembur = 5 * 10.000\n",
        "print('Gaji Total Dwi Pada Bulan Agustus adalah Rp', besar_tunjangan+total_gaji)"
      ],
      "metadata": {
        "colab": {
          "base_uri": "https://localhost:8080/"
        },
        "id": "p47AMJnZlsBC",
        "outputId": "8b9c3b88-e8ab-44e8-ab1a-73235514f00f"
      },
      "execution_count": null,
      "outputs": [
        {
          "output_type": "stream",
          "name": "stdout",
          "text": [
            "Gaji Total Dwi Pada Bulan Agustus adalah Rp 13533.0\n"
          ]
        }
      ]
    }
  ]
}